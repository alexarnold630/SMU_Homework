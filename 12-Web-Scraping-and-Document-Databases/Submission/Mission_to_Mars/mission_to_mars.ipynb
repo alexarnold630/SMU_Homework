{
 "cells": [
  {
   "cell_type": "code",
   "execution_count": 1,
   "metadata": {},
   "outputs": [],
   "source": [
    "from splinter import Browser\n",
    "from bs4 import BeautifulSoup\n",
    "from webdriver_manager.chrome import ChromeDriverManager\n",
    "import pandas as pd\n",
    "import requests\n",
    "import time"
   ]
  },
  {
   "cell_type": "code",
   "execution_count": 2,
   "metadata": {},
   "outputs": [
    {
     "name": "stderr",
     "output_type": "stream",
     "text": [
      "[WDM] - Current google-chrome version is 87.0.4280\n",
      "[WDM] - Get LATEST driver version for 87.0.4280\n",
      "[WDM] - Driver [/Users/alexarnold/.wdm/drivers/chromedriver/mac64/87.0.4280.88/chromedriver] found in cache\n"
     ]
    },
    {
     "name": "stdout",
     "output_type": "stream",
     "text": [
      " \n"
     ]
    }
   ],
   "source": [
    "executable_path = {'executable_path': ChromeDriverManager().install()}\n",
    "browser = Browser('chrome', **executable_path, headless=False)"
   ]
  },
  {
   "cell_type": "code",
   "execution_count": 3,
   "metadata": {},
   "outputs": [],
   "source": [
    "scraped_data = {}\n",
    "\n",
    "########################################\n",
    "\n",
    "#NAASA Mars News Site\n",
    "news_url = \"https://mars.nasa.gov/news/\"\n",
    "browser.visit(news_url)\n",
    "time.sleep(1)\n",
    "\n",
    "soup = BeautifulSoup(browser.html)\n",
    "\n",
    "slide = soup.find(\"li\", {\"class\": \"slide\"})\n",
    "news_title = slide.find(\"div\", {\"class\": \"content_title\"}).text.strip()\n",
    "news_p = slide.find(\"div\", {\"class\": \"article_teaser_body\"}).text.strip()\n",
    "\n",
    "########################################\n",
    "\n",
    "#JPL Mars Space Images - Featured Image\n",
    "\n",
    "base = \"https:www.jpl.nasa.gov\"\n",
    "url = f\"{base}/spaceimages/?search=&category=Mars\"\n",
    "browser.visit(url)\n",
    "time.sleep(1)\n",
    "\n",
    "full_image_button = browser.find_by_id(\"full_image\")\n",
    "full_image_button.click()\n",
    "time.sleep(1)\n",
    "\n",
    "more_info_button = browser.links.find_by_partial_text(\"more info\")\n",
    "more_info_button.click()\n",
    "time.sleep(1)\n",
    "\n",
    "soup = BeautifulSoup(browser.html)\n",
    "image_url = soup.find(\"img\", {\"class\": \"main_image\"})\n",
    "\n",
    "featured_image_url  = base + image_url[\"src\"]\n",
    "\n",
    "########################################\n",
    "\n",
    "#Mars Facts\n",
    "\n",
    "facts_url = \"https://space-facts.com/mars/\"\n",
    "browser.visit(facts_url)\n",
    "time.sleep(1)\n",
    "\n",
    "fact_df = pd.read_html(browser.html)\n",
    "facts_df = fact_df[0]\n",
    "facts_df.columns=[\"Description\", \"Mars\"]\n",
    "mars_facts = facts_df.to_html(index=False)\n",
    "\n",
    "########################################\n",
    "\n",
    "#Mars Hemispheres\n",
    "\n",
    "base_url = \"https://astrogeology.usgs.gov\"\n",
    "hemispheres_url = f\"{base_url}/search/results?q=hemisphere+enhanced&k1=target&v1=Mars\"\n",
    "browser.visit(hemispheres_url)\n",
    "\n",
    "soup = BeautifulSoup(browser.html)\n",
    "\n",
    "links = soup.find(\"div\", {\"class\": \"results\"}).findAll(\"a\", {\"class\": \"itemLink\"})\n",
    "\n",
    "#Filtering out non image links\n",
    "image_links = []\n",
    "\n",
    "for link in links:\n",
    "    image = link.find(\"img\")\n",
    "    if (image):\n",
    "        image_links.append(base_url + link[\"href\"])\n",
    "        \n",
    "hemisphere_data = []\n",
    "for image_link in image_links:\n",
    "    browser.visit(image_link)\n",
    "    time.sleep(1)\n",
    "    \n",
    "    soup = BeautifulSoup(browser.html)\n",
    "    image_url = soup.find(\"ul\").find(\"li\").find(\"a\")[\"href\"]\n",
    "    hemisphere_title = soup.find(\"h2\", {'class', \"title\"}).text.split(\" Enhanced\")[0]\n",
    "    \n",
    "    hemisphere_data.append({\"title\": hemisphere_title, \"img_url\": image_url})\n",
    "    \n",
    "browser.quit()\n",
    "\n",
    "#Append Data\n",
    "scraped_data[\"news_title\"] = news_title\n",
    "scraped_data[\"news_p\"] = news_p\n",
    "scraped_data[\"featured_image_url\"] = featured_image_url\n",
    "scraped_data[\"mars_facts\"] = mars_facts\n",
    "scraped_data[\"hemispheres\"] = hemisphere_data"
   ]
  },
  {
   "cell_type": "code",
   "execution_count": 4,
   "metadata": {},
   "outputs": [
    {
     "data": {
      "text/plain": [
       "{'news_title': \"Celebrate the Perseverance Rover Landing With NASA's Student Challenge\",\n",
       " 'news_p': 'The rover touches down on the Red Planet next month, and students are invited to join the excitement by designing, building, and landing their own Mars mission. NASA can help.',\n",
       " 'featured_image_url': 'https:www.jpl.nasa.gov/spaceimages/images/largesize/PIA19101_hires.jpg',\n",
       " 'mars_facts': '<table border=\"1\" class=\"dataframe\">\\n  <thead>\\n    <tr style=\"text-align: right;\">\\n      <th>Description</th>\\n      <th>Mars</th>\\n    </tr>\\n  </thead>\\n  <tbody>\\n    <tr>\\n      <td>Equatorial Diameter:</td>\\n      <td>6,792 km</td>\\n    </tr>\\n    <tr>\\n      <td>Polar Diameter:</td>\\n      <td>6,752 km</td>\\n    </tr>\\n    <tr>\\n      <td>Mass:</td>\\n      <td>6.39 × 10^23 kg (0.11 Earths)</td>\\n    </tr>\\n    <tr>\\n      <td>Moons:</td>\\n      <td>2 (Phobos &amp; Deimos)</td>\\n    </tr>\\n    <tr>\\n      <td>Orbit Distance:</td>\\n      <td>227,943,824 km (1.38 AU)</td>\\n    </tr>\\n    <tr>\\n      <td>Orbit Period:</td>\\n      <td>687 days (1.9 years)</td>\\n    </tr>\\n    <tr>\\n      <td>Surface Temperature:</td>\\n      <td>-87 to -5 °C</td>\\n    </tr>\\n    <tr>\\n      <td>First Record:</td>\\n      <td>2nd millennium BC</td>\\n    </tr>\\n    <tr>\\n      <td>Recorded By:</td>\\n      <td>Egyptian astronomers</td>\\n    </tr>\\n  </tbody>\\n</table>',\n",
       " 'hemispheres': [{'title': 'Cerberus Hemisphere',\n",
       "   'img_url': 'https://astropedia.astrogeology.usgs.gov/download/Mars/Viking/cerberus_enhanced.tif/full.jpg'},\n",
       "  {'title': 'Schiaparelli Hemisphere',\n",
       "   'img_url': 'https://astropedia.astrogeology.usgs.gov/download/Mars/Viking/schiaparelli_enhanced.tif/full.jpg'},\n",
       "  {'title': 'Syrtis Major Hemisphere',\n",
       "   'img_url': 'https://astropedia.astrogeology.usgs.gov/download/Mars/Viking/syrtis_major_enhanced.tif/full.jpg'},\n",
       "  {'title': 'Valles Marineris Hemisphere',\n",
       "   'img_url': 'https://astropedia.astrogeology.usgs.gov/download/Mars/Viking/valles_marineris_enhanced.tif/full.jpg'}]}"
      ]
     },
     "execution_count": 4,
     "metadata": {},
     "output_type": "execute_result"
    }
   ],
   "source": [
    "scraped_data"
   ]
  },
  {
   "cell_type": "raw",
   "metadata": {},
   "source": []
  },
  {
   "cell_type": "raw",
   "metadata": {},
   "source": []
  },
  {
   "cell_type": "markdown",
   "metadata": {},
   "source": []
  },
  {
   "cell_type": "code",
   "execution_count": 5,
   "metadata": {},
   "outputs": [
    {
     "data": {
      "text/plain": [
       "'<table border=\"1\" class=\"dataframe\">\\n  <thead>\\n    <tr style=\"text-align: right;\">\\n      <th>Description</th>\\n      <th>Mars</th>\\n    </tr>\\n  </thead>\\n  <tbody>\\n    <tr>\\n      <td>Equatorial Diameter:</td>\\n      <td>6,792 km</td>\\n    </tr>\\n    <tr>\\n      <td>Polar Diameter:</td>\\n      <td>6,752 km</td>\\n    </tr>\\n    <tr>\\n      <td>Mass:</td>\\n      <td>6.39 × 10^23 kg (0.11 Earths)</td>\\n    </tr>\\n    <tr>\\n      <td>Moons:</td>\\n      <td>2 (Phobos &amp; Deimos)</td>\\n    </tr>\\n    <tr>\\n      <td>Orbit Distance:</td>\\n      <td>227,943,824 km (1.38 AU)</td>\\n    </tr>\\n    <tr>\\n      <td>Orbit Period:</td>\\n      <td>687 days (1.9 years)</td>\\n    </tr>\\n    <tr>\\n      <td>Surface Temperature:</td>\\n      <td>-87 to -5 °C</td>\\n    </tr>\\n    <tr>\\n      <td>First Record:</td>\\n      <td>2nd millennium BC</td>\\n    </tr>\\n    <tr>\\n      <td>Recorded By:</td>\\n      <td>Egyptian astronomers</td>\\n    </tr>\\n  </tbody>\\n</table>'"
      ]
     },
     "execution_count": 5,
     "metadata": {},
     "output_type": "execute_result"
    }
   ],
   "source": []
  },
  {
   "cell_type": "code",
   "execution_count": null,
   "metadata": {},
   "outputs": [],
   "source": []
  }
 ],
 "metadata": {
  "kernelspec": {
   "display_name": "Python 3",
   "language": "python",
   "name": "python3"
  },
  "language_info": {
   "codemirror_mode": {
    "name": "ipython",
    "version": 3
   },
   "file_extension": ".py",
   "mimetype": "text/x-python",
   "name": "python",
   "nbconvert_exporter": "python",
   "pygments_lexer": "ipython3",
   "version": "3.8.3"
  }
 },
 "nbformat": 4,
 "nbformat_minor": 4
}
